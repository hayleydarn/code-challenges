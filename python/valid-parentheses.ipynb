{
 "cells": [
  {
   "cell_type": "code",
   "execution_count": null,
   "metadata": {},
   "outputs": [],
   "source": [
    "# https://www.codewars.com/kata/52774a314c2333f0a7000688/python"
   ]
  },
  {
   "cell_type": "code",
   "execution_count": null,
   "metadata": {},
   "outputs": [],
   "source": [
    "# codewars challenge solution\n",
    "# valid would mean same number of open and closed parentheses\n",
    "# AND can never have more closed parentheses than open\n",
    "def valid_parentheses(string):\n",
    "    counter = 0\n",
    "    \n",
    "    for character in string:\n",
    "        if character == '(':\n",
    "            counter += 1\n",
    "            \n",
    "        if character == ')':\n",
    "            counter -= 1\n",
    "            \n",
    "        if counter < 0:\n",
    "            return False\n",
    "        \n",
    "    return counter == 0"
   ]
  }
 ],
 "metadata": {
  "kernelspec": {
   "display_name": "Python 3",
   "language": "python",
   "name": "python3"
  },
  "language_info": {
   "codemirror_mode": {
    "name": "ipython",
    "version": 3
   },
   "file_extension": ".py",
   "mimetype": "text/x-python",
   "name": "python",
   "nbconvert_exporter": "python",
   "pygments_lexer": "ipython3",
   "version": "3.8.3"
  }
 },
 "nbformat": 4,
 "nbformat_minor": 4
}
